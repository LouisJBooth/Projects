{
 "cells": [
  {
   "cell_type": "code",
   "execution_count": null,
   "metadata": {},
   "outputs": [],
   "source": [
    "# stat block creation script\n",
    "\n",
    "# change icon with .ico file\n",
    "\n",
    "# test for other names with no corresponding picture\n",
    "\n",
    "# set start point of windows"
   ]
  },
  {
   "cell_type": "code",
   "execution_count": 1,
   "metadata": {},
   "outputs": [],
   "source": [
    "# package import\n",
    "import json"
   ]
  },
  {
   "cell_type": "code",
   "execution_count": 2,
   "metadata": {},
   "outputs": [],
   "source": [
    "# open file, load file, close file\n",
    "inFile = open(\"5e-SRD-monsters.json\")\n",
    "monsters_json = json.load(inFile)\n",
    "inFile.close()"
   ]
  },
  {
   "cell_type": "code",
   "execution_count": 3,
   "metadata": {},
   "outputs": [],
   "source": [
    "# values for names\n",
    "name_values = []\n",
    "\n",
    "# loop through json structure and append 'name' values to list\n",
    "for i in range(0,(len(monsters_json)-1)): # -1 to remove erroneous info at end of json structure\n",
    "    if monsters_json[i]['name'].lower() not in ('bandit', 'veteran'): # ignore names with no corresponding pictures on webpage\n",
    "        name_values.append(monsters_json[i]['name'].lower()) # append \"searchable\" names to list\n",
    "    else:\n",
    "        continue"
   ]
  },
  {
   "cell_type": "code",
   "execution_count": 4,
   "metadata": {},
   "outputs": [],
   "source": [
    "# tkinter imports\n",
    "import tkinter as tk\n",
    "from tkinter import Frame\n",
    "from tkinter import NONE\n",
    "from tkinter import END\n",
    "from tkinter import Label\n",
    "from tkinter import Toplevel\n",
    "from tkinter import Canvas\n",
    "from tkinter import Entry\n",
    "from tkinter import ttk"
   ]
  },
  {
   "cell_type": "code",
   "execution_count": 5,
   "metadata": {},
   "outputs": [],
   "source": [
    "# web scraping package imports\n",
    "#import re\n",
    "import requests\n",
    "import urllib\n",
    "from urllib.request import urlopen\n",
    "from bs4 import BeautifulSoup"
   ]
  },
  {
   "cell_type": "code",
   "execution_count": 6,
   "metadata": {},
   "outputs": [],
   "source": [
    "# image file package imports\n",
    "from io import BytesIO\n",
    "from PIL import ImageTk\n",
    "from PIL import Image"
   ]
  },
  {
   "cell_type": "code",
   "execution_count": 7,
   "metadata": {
    "scrolled": true
   },
   "outputs": [
    {
     "name": "stdout",
     "output_type": "stream",
     "text": [
      "You typed: lich\n",
      "You typed: lich\n",
      "You typed: grimlock\n",
      "You typed: grell\n",
      "You typed: 2407347132\n",
      "You typed: vampire\n"
     ]
    }
   ],
   "source": [
    "j = 0\n",
    "enc_images = {}\n",
    "\n",
    "def getImage(thetext):\n",
    "    global enc_image\n",
    "    inp = thetext.replace(\" \", \"-\")\n",
    "    URL = \"https://www.dndbeyond.com/monsters/{}\".format(inp)\n",
    "    hdr = {'User-Agent': 'Mozilla/5.0 (X11; Linux x86_64) AppleWebKit/537.11 (KHTML, like Gecko) Chrome/23.0.1271.64 Safari/537.11',\n",
    "            'Accept': 'text/html,application/xhtml+xml,application/xml;q=0.9,*/*;q=0.8',\n",
    "            'Accept-Charset': 'ISO-8859-1,utf-8;q=0.7,*;q=0.3',\n",
    "            'Accept-Encoding': 'none',\n",
    "            'Accept-Language': 'en-US,en;q=0.8',\n",
    "            'Connection': 'keep-alive'}\n",
    "    req = urllib.request.Request(URL, headers=hdr)\n",
    "    html = urlopen(req)\n",
    "    bs = BeautifulSoup(html, 'html.parser')\n",
    "    images = bs.find_all('img', src=True)\n",
    "    for i in range(0, len(images)-1):\n",
    "        if images[i]['src'].startswith(\"https://media-waterdeep.cursecdn.com/avatars/thumbnails/\"):\n",
    "            img_URL = images[i]['src']\n",
    "            break\n",
    "        else:\n",
    "            continue\n",
    "    response = requests.get(img_URL)   \n",
    "    enc_image = Image.open(BytesIO(response.content))\n",
    "\n",
    "class application(tk.Tk):\n",
    "    def __init__(self, *args, **kwargs):\n",
    "        global enc_start_image\n",
    "        tk.Tk.__init__(self, *args, **kwargs)\n",
    "        tk.Tk.wm_title(self, \"5e Monster Search\")\n",
    "        start_image = Image.open(\"dragon_100.png\")\n",
    "        enc_start_image = ImageTk.PhotoImage(start_image)\n",
    "        container = tk.Frame(self)\n",
    "        container.pack(fill=\"both\", expand=True)\n",
    "        container.grid_rowconfigure(0, weight=1)\n",
    "        container.grid_columnconfigure(0, weight=1)\n",
    "        self.frames = {}\n",
    "        frame = StartPage(container, self)\n",
    "        self.frames[StartPage] = frame\n",
    "        frame.grid(row=0, column=0)\n",
    "        self.show_frame(StartPage)\n",
    "        \n",
    "    def show_frame(self, cont):\n",
    "        frame = self.frames[cont]\n",
    "        frame.tkraise()\n",
    "        \n",
    "class StartPage(tk.Frame):\n",
    "    def __init__(self, parent, *args, **kwargs):\n",
    "        self.parent = parent\n",
    "        tk.Frame.__init__(self, parent)\n",
    "        self.pack()\n",
    "        self.label = ttk.Label(self, text=\"Search Monsters:\", font='Helvetica 12 bold')\n",
    "        self.label.grid(row=1, column=1, padx=10, pady=10)\n",
    "        self.entry = ttk.Entry(self)\n",
    "        self.entry.grid(row=1, column=2, padx=10, pady=10)\n",
    "        self.entry.bind(\"<Return>\", self.validateAndNewWindow)\n",
    "        self.entry.focus_set()\n",
    "        self.label_im = ttk.Label(self, image=enc_start_image)\n",
    "        self.label_im.grid(row=2, column=1, padx=10, pady=10, sticky='nsew')\n",
    "        self.submitbutton = ttk.Button(self, text=\"Search\", command=self.validateAndNewWindow)\n",
    "        self.submitbutton.grid(row=2, column=2, padx=10, pady=10)\n",
    "        self.resultlabel = ttk.Label(self, text=\"Last Entry:\", font='Helvetica 12 bold')\n",
    "        self.resultlabel.grid(row=3, column=1, padx=10, pady=10)\n",
    "        self.resultbox = ttk.Entry(self)\n",
    "        self.resultbox.grid(row=3, column=2, padx=10, pady=10)\n",
    "        \n",
    "    def validateAndNewWindow(self, event=None):\n",
    "        global thetext\n",
    "        thetext = self.entry.get()\n",
    "        if thetext.lower() in name_values:\n",
    "            self.resultbox.delete(0, END)\n",
    "            self.resultbox.insert(0, thetext.title())\n",
    "            getImage(thetext.lower())\n",
    "            app2 = application_2()\n",
    "        else:\n",
    "            result = \"Monster Not Found!\"\n",
    "            self.resultbox.delete(0, END)\n",
    "            self.resultbox.insert(0, result)\n",
    "        \n",
    "class application_2(tk.Tk):\n",
    "    def __init__(self, *args, **kwargs):\n",
    "        global j\n",
    "        self.newwindow = tk.Toplevel()\n",
    "        self.newwindow.wm_title(\"{} Stat Block\".format(thetext.title()))\n",
    "        self.popup = tk.Frame(self.newwindow)\n",
    "        self.popup.pack(fill=\"both\", expand=True)\n",
    "        self.popup.grid_rowconfigure(0, weight=1)\n",
    "        self.popup.grid_columnconfigure(0, weight=1)\n",
    "        self.popup.grid(row=0, column=0)\n",
    "        self.popup.pack()\n",
    "        self.label_nm = ttk.Label(self.popup, text=thetext.title(), font='Helvetica 16 bold')\n",
    "        self.label_nm.grid(row=1, column=1, padx=10, pady=10)\n",
    "        enc_images[j] = ImageTk.PhotoImage(enc_image)\n",
    "        self.label_im = ttk.Label(self.popup, image=enc_images[j])\n",
    "        self.label_im.grid(row=2, column=1, padx=10)\n",
    "        self.quitbutton = ttk.Button(self.popup, text='Close Window', command=self.close_windows)\n",
    "        self.quitbutton.grid(row=3, column=1, padx=10, pady=10)\n",
    "        j += 1\n",
    "        \n",
    "    def close_windows(self):\n",
    "        self.newwindow.destroy()\n",
    "\n",
    "def main():\n",
    "    app = application()\n",
    "    app.mainloop() \n",
    "\n",
    "if __name__ == '__main__':        \n",
    "    main()"
   ]
  },
  {
   "cell_type": "code",
   "execution_count": null,
   "metadata": {},
   "outputs": [],
   "source": []
  },
  {
   "cell_type": "code",
   "execution_count": null,
   "metadata": {},
   "outputs": [],
   "source": []
  }
 ],
 "metadata": {
  "kernelspec": {
   "display_name": "Python 3",
   "language": "python",
   "name": "python3"
  },
  "language_info": {
   "codemirror_mode": {
    "name": "ipython",
    "version": 3
   },
   "file_extension": ".py",
   "mimetype": "text/x-python",
   "name": "python",
   "nbconvert_exporter": "python",
   "pygments_lexer": "ipython3",
   "version": "3.6.7"
  }
 },
 "nbformat": 4,
 "nbformat_minor": 2
}
